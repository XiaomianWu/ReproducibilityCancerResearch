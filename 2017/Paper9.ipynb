{
 "cells": [
  {
   "cell_type": "markdown",
   "metadata": {},
   "source": [
    "This file contains the code used for implementing the classifer in paper Comparison of Discrimination Methods for the Classification of Tumors Using Gene Expression data. This notebook could be pretty slow as a lot of function implemented are not time efficient enough in R (will try to optimize it if possible in the future).\n",
    "\n",
    "**Data Set**: Merge the train and test data in the original paper and split the merged data to form train and test during learning.\n",
    "    - Merge Data: 72 samples(47 ALL, 25 AML, 62 bone marrow, 10 peripheral blood samples)\n",
    "    - Predictors: 7129 gene expression levels represent 6817 genes.\n",
    "    \n",
    "**Main Purpose**: LDA, QDA, Decision Tree, NN."
   ]
  },
  {
   "cell_type": "markdown",
   "metadata": {},
   "source": [
    "## Reproduce using R"
   ]
  },
  {
   "cell_type": "markdown",
   "metadata": {},
   "source": [
    "### Step 1 Load and preprocess data."
   ]
  },
  {
   "cell_type": "code",
   "execution_count": 1,
   "metadata": {
    "collapsed": false
   },
   "outputs": [
    {
     "data": {
      "text/html": [
       "<ol class=list-inline>\n",
       "\t<li>72</li>\n",
       "\t<li>7129</li>\n",
       "</ol>\n"
      ],
      "text/latex": [
       "\\begin{enumerate*}\n",
       "\\item 72\n",
       "\\item 7129\n",
       "\\end{enumerate*}\n"
      ],
      "text/markdown": [
       "1. 72\n",
       "2. 7129\n",
       "\n",
       "\n"
      ],
      "text/plain": [
       "[1]   72 7129"
      ]
     },
     "metadata": {},
     "output_type": "display_data"
    },
    {
     "data": {
      "text/plain": [
       "golub_merge_r\n",
       "ALL AML \n",
       " 47  25 "
      ]
     },
     "metadata": {},
     "output_type": "display_data"
    },
    {
     "data": {
      "text/html": [
       "<ol class=list-inline>\n",
       "\t<li>72</li>\n",
       "\t<li>3571</li>\n",
       "</ol>\n"
      ],
      "text/latex": [
       "\\begin{enumerate*}\n",
       "\\item 72\n",
       "\\item 3571\n",
       "\\end{enumerate*}\n"
      ],
      "text/markdown": [
       "1. 72\n",
       "2. 3571\n",
       "\n",
       "\n"
      ],
      "text/plain": [
       "[1]   72 3571"
      ]
     },
     "metadata": {},
     "output_type": "display_data"
    },
    {
     "data": {
      "text/plain": [
       "golub_merge_r\n",
       "ALL AML \n",
       " 47  25 "
      ]
     },
     "metadata": {},
     "output_type": "display_data"
    }
   ],
   "source": [
    "# The implementation below is very similar to the one in paper1 notehbook and details chould be checked there.\n",
    "\n",
    "## The code below is commented out since it is unnecessary and time-consuming to run it everytime. Run it if needed.\n",
    "#options(repos='http://cran.rstudio.com/') \n",
    "#source(\"http://bioconductor.org/biocLite.R\")\n",
    "#biocLite(\"golubEsets\")\n",
    "#install.packages(\"tree\")\n",
    "#install.packages(\"fastAdaboost\")\n",
    "#install.packages(\"sparsediscrim\", dependencies = T)\n",
    "suppressMessages(library(sparsediscrim))\n",
    "suppressMessages(library(tree))\n",
    "suppressMessages(library(golubEsets))\n",
    "suppressMessages(library(fastAdaboost))\n",
    "\n",
    "# load data from golubEsets\n",
    "data(Golub_Merge)\n",
    "golub_merge_p = t(exprs(Golub_Merge))\n",
    "golub_merge_r =pData(Golub_Merge)[, \"ALL.AML\"]\n",
    "golub_merge_l = ifelse(golub_merge_r == \"AML\", 1, 0)\n",
    "\n",
    "#show summary\n",
    "dim(golub_merge_p) \n",
    "table(golub_merge_r)\n",
    "\n",
    "# Thresholding\n",
    "golub_merge_pp = golub_merge_p\n",
    "golub_merge_pp[golub_merge_pp<100] = 100\n",
    "golub_merge_pp[golub_merge_pp>16000] = 16000\n",
    "\n",
    "# Filtering\n",
    "golub_filter = function(x, r = 5, d=500){\n",
    "    minval = min(x)\n",
    "    maxval = max(x)\n",
    "    (maxval/minval>r)&&(maxval-minval>d)\n",
    "}\n",
    "merge_index = apply(golub_merge_pp, 2, golub_filter)\n",
    "golub_merge_index = (1:7129)[merge_index]\n",
    "golub_merge_pp = golub_merge_pp[, golub_merge_index]\n",
    "\n",
    "# Base 10 logarithmic transformation\n",
    "golub_merge_p_trans = log10(golub_merge_pp)\n",
    "\n",
    "#show summary again\n",
    "dim(golub_merge_p_trans)\n",
    "table(golub_merge_r)\n",
    "\n",
    "# Further standardization to mean 0 variance 1.\n",
    "scale_golub_merge = scale(golub_merge_p_trans)\n",
    "set.seed(201703)"
   ]
  },
  {
   "cell_type": "markdown",
   "metadata": {},
   "source": [
    "As we see in the result above, the dataset is indeed reduce to $72 \\times 3571$ and this is also the origin of the $72 \\times 3571$ dataset available online."
   ]
  },
  {
   "cell_type": "markdown",
   "metadata": {},
   "source": [
    "### Step 2 Build Classification"
   ]
  },
  {
   "cell_type": "code",
   "execution_count": 2,
   "metadata": {
    "collapsed": true
   },
   "outputs": [],
   "source": [
    "# Settings\n",
    "p = 40 # number of genes for FLDA\n",
    "B = 50 # Aggregation predictors\n",
    "N = 200 # repeat classification N times\n",
    "d = c(0.05, 0.1,0.25, 0.5, 0.75, 1) # CPD parameter"
   ]
  },
  {
   "cell_type": "code",
   "execution_count": 3,
   "metadata": {
    "collapsed": true
   },
   "outputs": [],
   "source": [
    "# Split train test\n",
    "mysplit = function(n){\n",
    "    sample(1:n, floor(n/3))\n",
    "}\n",
    "# calculate BW(the ratio of between-group to within group sums of squares)\n",
    "BW = function(predictor, response){\n",
    "    overall = colMeans(predictor)\n",
    "    ALL_mean = apply(predictor, 2, function(x) mean(x[response == \"ALL\"]))\n",
    "    AML_mean = apply(predictor, 2, function(x) mean(x[response == \"AML\"]))\n",
    "    numerator = sum(response == \"ALL\")*(ALL_mean-overall)^2+sum(response == \"AML\")*(AML_mean-overall)^2\n",
    "    denumerator = colSums((t(t(predictor[response == \"ALL\", ])-ALL_mean))^2)+colSums((t(t(predictor[response == \"AML\", ])-AML_mean))^2)\n",
    "    numerator/denumerator\n",
    "}"
   ]
  },
  {
   "cell_type": "markdown",
   "metadata": {},
   "source": [
    "- **Nearest Neighbor**"
   ]
  },
  {
   "cell_type": "code",
   "execution_count": 4,
   "metadata": {
    "collapsed": false
   },
   "outputs": [
    {
     "data": {
      "text/html": [
       "<dl class=dl-horizontal>\n",
       "\t<dt>Median</dt>\n",
       "\t\t<dd>1</dd>\n",
       "\t<dt>Upper_quartile.75%</dt>\n",
       "\t\t<dd>2</dd>\n",
       "</dl>\n"
      ],
      "text/latex": [
       "\\begin{description*}\n",
       "\\item[Median] 1\n",
       "\\item[Upper\\textbackslash{}\\_quartile.75\\textbackslash{}\\%] 2\n",
       "\\end{description*}\n"
      ],
      "text/markdown": [
       "Median\n",
       ":   1Upper_quartile.75%\n",
       ":   2\n",
       "\n"
      ],
      "text/plain": [
       "            Median Upper_quartile.75% \n",
       "                 1                  2 "
      ]
     },
     "metadata": {},
     "output_type": "display_data"
    }
   ],
   "source": [
    "k = seq(1, 21, 2)\n",
    "# Distance for each test for NN classifiers\n",
    "Distance = function(predictor, test){\n",
    "    1- apply(predictor, 1, cor, test)\n",
    "}\n",
    "# NN classification process\n",
    "nn = function(test, pk, learning, response){\n",
    "     distance = Distance(learning, test)\n",
    "     index = order(distance)[1:pk]\n",
    "     cl = ifelse(sum(response[index] == \"AML\")>sum(response[index]==\"ALL\"), \"AML\", \"ALL\")\n",
    "     cl\n",
    "}\n",
    "# leave-one-cross-validation to tune k\n",
    "mycv= function(pk,learning,response){\n",
    "    error = 0\n",
    "    for(i in 1:nrow(learning)){\n",
    "        cl = nn(learning[i,], pk, learning[-i, ], response[-i])\n",
    "        error = error+(cl == response[i])\n",
    "    }\n",
    "    error\n",
    "}\n",
    "error_count = numeric(N)\n",
    "for(i in 1:N){\n",
    "    # split data\n",
    "    nn_index = mysplit(nrow(scale_golub_merge))\n",
    "    nn_train_p = scale_golub_merge[-nn_index,]\n",
    "    nn_train_r = golub_merge_r[-nn_index]\n",
    "    nn_test_p = scale_golub_merge[nn_index,]\n",
    "    nn_test_r = golub_merge_r[nn_index]\n",
    "    # gene selection\n",
    "    temp_bw = order(BW(nn_train_p, nn_train_r), decreasing = T)[1:p]\n",
    "    nn_train_p = nn_train_p[,temp_bw]\n",
    "    nn_test_p = nn_test_p[,temp_bw]\n",
    "    # cross-validation to choose k\n",
    "    choose_k = sapply(k,mycv, learning = nn_train_p, response = nn_train_r)\n",
    "    # nn classification\n",
    "    nn_r = apply(nn_test_p,1, nn, k[which.min(choose_k)], nn_train_p, nn_train_r)\n",
    "    error_count[i] = sum(nn_r != nn_test_r)\n",
    "}\n",
    "c(Median = median(error_count), Upper_quartile = quantile(error_count, 0.75))"
   ]
  },
  {
   "cell_type": "markdown",
   "metadata": {},
   "source": [
    "- **Desicion Tree(CART)**\n",
    "\n",
    "This part is accomplished using tree() function in R. Since not much is mentioned in the paper about the set up of the decision tree, I make the assumption that the size of the tree is 3."
   ]
  },
  {
   "cell_type": "code",
   "execution_count": 5,
   "metadata": {
    "collapsed": false,
    "scrolled": true
   },
   "outputs": [
    {
     "data": {
      "text/html": [
       "<dl class=dl-horizontal>\n",
       "\t<dt>Median</dt>\n",
       "\t\t<dd>2</dd>\n",
       "\t<dt>Upper_quartile.75%</dt>\n",
       "\t\t<dd>2</dd>\n",
       "</dl>\n"
      ],
      "text/latex": [
       "\\begin{description*}\n",
       "\\item[Median] 2\n",
       "\\item[Upper\\textbackslash{}\\_quartile.75\\textbackslash{}\\%] 2\n",
       "\\end{description*}\n"
      ],
      "text/markdown": [
       "Median\n",
       ":   2Upper_quartile.75%\n",
       ":   2\n",
       "\n"
      ],
      "text/plain": [
       "            Median Upper_quartile.75% \n",
       "                 2                  2 "
      ]
     },
     "metadata": {},
     "output_type": "display_data"
    }
   ],
   "source": [
    "cbine_data = data.frame(response = factor(golub_merge_r), scale_golub_merge)\n",
    "tree_mdl = tree(response~.,data = cbine_data)\n",
    "cv_error = replicate(N, ceiling(cv.tree(tree_mdl, , prune.tree, K = 10, method = \"misclass\")$dev[1]/10))\n",
    "c(Median = median(cv_error), Upper_quartile = quantile(cv_error, 0.75))"
   ]
  },
  {
   "cell_type": "markdown",
   "metadata": {},
   "source": [
    "- **Bagging**\n",
    "Implemented without using packages in R."
   ]
  },
  {
   "cell_type": "code",
   "execution_count": 6,
   "metadata": {
    "collapsed": false
   },
   "outputs": [
    {
     "data": {
      "text/html": [
       "<dl class=dl-horizontal>\n",
       "\t<dt>Median</dt>\n",
       "\t\t<dd>2</dd>\n",
       "\t<dt>Upper_quartile.75%</dt>\n",
       "\t\t<dd>3</dd>\n",
       "</dl>\n"
      ],
      "text/latex": [
       "\\begin{description*}\n",
       "\\item[Median] 2\n",
       "\\item[Upper\\textbackslash{}\\_quartile.75\\textbackslash{}\\%] 3\n",
       "\\end{description*}\n"
      ],
      "text/markdown": [
       "Median\n",
       ":   2Upper_quartile.75%\n",
       ":   3\n",
       "\n"
      ],
      "text/plain": [
       "            Median Upper_quartile.75% \n",
       "                 2                  3 "
      ]
     },
     "metadata": {},
     "output_type": "display_data"
    }
   ],
   "source": [
    "bg_error = numeric(N)\n",
    "my_baghelper = function(train, test){\n",
    "    bg = sample(nrow(train), replace = T)\n",
    "    temp_md = tree(response~., data = train[bg, ])\n",
    "    predict(temp_md, test, type = \"class\")\n",
    "}\n",
    "for(i in 1:N){\n",
    "    bg_index = mysplit(nrow(cbine_data))\n",
    "    bg_train = cbine_data[-bg_index,]\n",
    "    bg_test = cbine_data[bg_index,]\n",
    "    \n",
    "    # gene selection\n",
    "    temp_bw = order(BW(bg_train[, -1], bg_train$response), decreasing = T)[1:p]\n",
    "    bg_train_p = data.frame(response = bg_train$response, bg_train[,temp_bw+1])\n",
    "    bg_test_p= data.frame(response = bg_test$response, bg_test[,temp_bw+1])\n",
    "    dim(bg_train_p)\n",
    "    t1 = replicate(B, my_baghelper(bg_train_p, bg_test_p))\n",
    "    pred = apply(t1, 1, function(x) ifelse(sum(x == \"AML\")>sum(x ==\"ALL\"), \"AML\", \"ALL\"))\n",
    "    bg_error[i] = sum(pred != bg_test_p$response)\n",
    "}\n",
    "c(Median = median(bg_error), Upper_quartile = quantile(bg_error, 0.75))"
   ]
  },
  {
   "cell_type": "markdown",
   "metadata": {},
   "source": [
    "- **Bagging with CPD**\n"
   ]
  },
  {
   "cell_type": "code",
   "execution_count": 7,
   "metadata": {
    "collapsed": false
   },
   "outputs": [
    {
     "data": {
      "text/html": [
       "<dl class=dl-horizontal>\n",
       "\t<dt>Median</dt>\n",
       "\t\t<dd>2</dd>\n",
       "\t<dt>Upper_quartile.75%</dt>\n",
       "\t\t<dd>3</dd>\n",
       "</dl>\n"
      ],
      "text/latex": [
       "\\begin{description*}\n",
       "\\item[Median] 2\n",
       "\\item[Upper\\textbackslash{}\\_quartile.75\\textbackslash{}\\%] 3\n",
       "\\end{description*}\n"
      ],
      "text/markdown": [
       "Median\n",
       ":   2Upper_quartile.75%\n",
       ":   3\n",
       "\n"
      ],
      "text/plain": [
       "            Median Upper_quartile.75% \n",
       "                 2                  3 "
      ]
     },
     "metadata": {},
     "output_type": "display_data"
    }
   ],
   "source": [
    "d = 0.75\n",
    "CPD = function(d, x1, x2){\n",
    "    a = runif(nrow(x1), 0, d)\n",
    "    a*x1+(1-a)*x2\n",
    "}\n",
    "my_cpdhelper = function(train, test){\n",
    "    id1 = sample(nrow(train), replace = T)\n",
    "    id2 = sample(nrow(train), replace = T)\n",
    "    temp = CPD(d, train[id1, -1], train[id2,-1])\n",
    "    temp_md = tree(response~., data = data.frame(temp, response = train$response[id1]))\n",
    "    predict(temp_md, test, type = \"class\")\n",
    "}\n",
    "cpd_error = numeric(N)\n",
    "for(i in 1:N){\n",
    "    cpd_index = mysplit(nrow(cbine_data))\n",
    "    cpd_train = cbine_data[-cpd_index,]\n",
    "    cpd_test = cbine_data[cpd_index,]\n",
    "    \n",
    "    # gene selection\n",
    "    temp_bw = order(BW(cpd_train[, -1], cpd_train$response), decreasing = T)[1:p]\n",
    "    cpd_train_t = data.frame(response = cpd_train$response, cpd_train[,temp_bw+1])\n",
    "    cpd_test_t= data.frame(response = cpd_test$response, cpd_test[,temp_bw+1])\n",
    "   \n",
    "    t1 = replicate(B, my_cpdhelper(cpd_train_t, cpd_test_t))\n",
    "    pred = apply(t1, 1, function(x) ifelse(sum(x == \"AML\")>sum(x ==\"ALL\"), \"AML\", \"ALL\"))\n",
    "    cpd_error[i] = sum(pred != cpd_test_t$response)\n",
    "}\n",
    "c(Median = median(cpd_error), Upper_quartile = quantile(cpd_error, 0.75))"
   ]
  },
  {
   "cell_type": "markdown",
   "metadata": {},
   "source": [
    "- **AdaBoost**\n",
    "Using adaboost function from fastAdaboost package in R."
   ]
  },
  {
   "cell_type": "code",
   "execution_count": 8,
   "metadata": {
    "collapsed": false
   },
   "outputs": [
    {
     "data": {
      "text/html": [
       "<dl class=dl-horizontal>\n",
       "\t<dt>Median</dt>\n",
       "\t\t<dd>1</dd>\n",
       "\t<dt>Upper_quartile.75%</dt>\n",
       "\t\t<dd>2</dd>\n",
       "</dl>\n"
      ],
      "text/latex": [
       "\\begin{description*}\n",
       "\\item[Median] 1\n",
       "\\item[Upper\\textbackslash{}\\_quartile.75\\textbackslash{}\\%] 2\n",
       "\\end{description*}\n"
      ],
      "text/markdown": [
       "Median\n",
       ":   1Upper_quartile.75%\n",
       ":   2\n",
       "\n"
      ],
      "text/plain": [
       "            Median Upper_quartile.75% \n",
       "                 1                  2 "
      ]
     },
     "metadata": {},
     "output_type": "display_data"
    }
   ],
   "source": [
    "ada_error = numeric(N)\n",
    "for(i in 1:N){\n",
    "    ad_index = mysplit(nrow(cbine_data))\n",
    "    ad_train = cbine_data[-ad_index,]\n",
    "    ad_test = cbine_data[ad_index,]\n",
    "    \n",
    "    # gene selection\n",
    "    temp_bw = order(BW(ad_train[, -1], ad_train$response), decreasing = T)[1:p]\n",
    "    ad_train_t = data.frame(response = ad_train$response, ad_train[,temp_bw+1])\n",
    "    ad_test_t= data.frame(response = ad_test$response, ad_test[,temp_bw+1])\n",
    "    \n",
    "    ada_cl = adaboost(response~., data = ad_train_t, 50)\n",
    "    ada_test_pr = predict(ada_cl, ad_test_t)$class\n",
    "   ada_error[i] = sum(ada_test_pr != ad_test_t$response)\n",
    "}\n",
    "c(Median = median(ada_error), Upper_quartile = quantile(ada_error, 0.75))"
   ]
  },
  {
   "cell_type": "markdown",
   "metadata": {},
   "source": [
    "- **FLDA**\n",
    "As the current LDA is very similar to the FLDA, lda function in MASS package is used to accomplish this part."
   ]
  },
  {
   "cell_type": "code",
   "execution_count": 9,
   "metadata": {
    "collapsed": false
   },
   "outputs": [
    {
     "data": {
      "text/html": [
       "<dl class=dl-horizontal>\n",
       "\t<dt>Median</dt>\n",
       "\t\t<dd>4</dd>\n",
       "\t<dt>Upper_quartile.75%</dt>\n",
       "\t\t<dd>5</dd>\n",
       "</dl>\n"
      ],
      "text/latex": [
       "\\begin{description*}\n",
       "\\item[Median] 4\n",
       "\\item[Upper\\textbackslash{}\\_quartile.75\\textbackslash{}\\%] 5\n",
       "\\end{description*}\n"
      ],
      "text/markdown": [
       "Median\n",
       ":   4Upper_quartile.75%\n",
       ":   5\n",
       "\n"
      ],
      "text/plain": [
       "            Median Upper_quartile.75% \n",
       "                 4                  5 "
      ]
     },
     "metadata": {},
     "output_type": "display_data"
    }
   ],
   "source": [
    "flda_error = numeric(N)\n",
    "for(i in 1:200){\n",
    "    flda_index = mysplit(nrow(cbine_data))\n",
    "    flda_train = cbine_data[-flda_index,]\n",
    "    flda_test = cbine_data[flda_index,]\n",
    "    \n",
    "    # gene selection\n",
    "    temp_bw = order(BW(flda_train[, -1], flda_train$response), decreasing = T)[1:p]\n",
    "    flda_train_t = data.frame(response = flda_train$response, flda_train[,temp_bw+1])\n",
    "    flda_test_t= data.frame(response = flda_test$response, flda_test[,temp_bw+1])\n",
    "    \n",
    "    flda_md = MASS::lda(response~., data = flda_train_t)\n",
    "    flda_pred = predict(flda_md, flda_test_t)$class\n",
    "    flda_error[i] = sum(flda_pred != flda_test_t$response)\n",
    "}\n",
    "c(Median = median(flda_error), Upper_quartile = quantile(flda_error, 0.75))"
   ]
  },
  {
   "cell_type": "markdown",
   "metadata": {},
   "source": [
    "- **DLDA**\n",
    "\n",
    "Accomplished using R dlda in sparsediscrim packages."
   ]
  },
  {
   "cell_type": "code",
   "execution_count": 10,
   "metadata": {
    "collapsed": false
   },
   "outputs": [
    {
     "data": {
      "text/html": [
       "<dl class=dl-horizontal>\n",
       "\t<dt>Median</dt>\n",
       "\t\t<dd>1</dd>\n",
       "\t<dt>Upper_quartile.75%</dt>\n",
       "\t\t<dd>1</dd>\n",
       "</dl>\n"
      ],
      "text/latex": [
       "\\begin{description*}\n",
       "\\item[Median] 1\n",
       "\\item[Upper\\textbackslash{}\\_quartile.75\\textbackslash{}\\%] 1\n",
       "\\end{description*}\n"
      ],
      "text/markdown": [
       "Median\n",
       ":   1Upper_quartile.75%\n",
       ":   1\n",
       "\n"
      ],
      "text/plain": [
       "            Median Upper_quartile.75% \n",
       "                 1                  1 "
      ]
     },
     "metadata": {},
     "output_type": "display_data"
    }
   ],
   "source": [
    "dlda_error = numeric(N)\n",
    "for(i in 1:200){\n",
    "    dlda_index = mysplit(nrow(cbine_data))\n",
    "    dlda_train = cbine_data[-dlda_index,]\n",
    "    dlda_test = cbine_data[dlda_index,]\n",
    "    \n",
    "    # gene selection\n",
    "    temp_bw = order(BW(dlda_train[, -1], dlda_train$response), decreasing = T)[1:p]\n",
    "    dlda_train_t = data.frame(response = dlda_train$response, dlda_train[,temp_bw+1])\n",
    "    dlda_test_t= data.frame(response = dlda_test$response, dlda_test[,temp_bw+1])\n",
    "    \n",
    "    dlda_md = dlda(response~., data = dlda_train_t)\n",
    "    dlda_pred = predict(dlda_md, dlda_test_t[, -1])$class\n",
    "    dlda_error[i] = sum(dlda_pred != dlda_test_t$response)\n",
    "}\n",
    "c(Median = median(dlda_error), Upper_quartile = quantile(dlda_error, 0.75))"
   ]
  },
  {
   "cell_type": "markdown",
   "metadata": {},
   "source": [
    "- **DQDA**"
   ]
  },
  {
   "cell_type": "code",
   "execution_count": 11,
   "metadata": {
    "collapsed": false
   },
   "outputs": [
    {
     "data": {
      "text/html": [
       "<dl class=dl-horizontal>\n",
       "\t<dt>Median</dt>\n",
       "\t\t<dd>1</dd>\n",
       "\t<dt>Upper_quartile.75%</dt>\n",
       "\t\t<dd>1</dd>\n",
       "</dl>\n"
      ],
      "text/latex": [
       "\\begin{description*}\n",
       "\\item[Median] 1\n",
       "\\item[Upper\\textbackslash{}\\_quartile.75\\textbackslash{}\\%] 1\n",
       "\\end{description*}\n"
      ],
      "text/markdown": [
       "Median\n",
       ":   1Upper_quartile.75%\n",
       ":   1\n",
       "\n"
      ],
      "text/plain": [
       "            Median Upper_quartile.75% \n",
       "                 1                  1 "
      ]
     },
     "metadata": {},
     "output_type": "display_data"
    }
   ],
   "source": [
    "dqda_error = numeric(N)\n",
    "for(i in 1:200){\n",
    "    dqda_index = mysplit(nrow(cbine_data))\n",
    "    dqda_train = cbine_data[-dqda_index,]\n",
    "    dqda_test = cbine_data[dqda_index,]\n",
    "    \n",
    "    # gene selection\n",
    "    temp_bw = order(BW(dqda_train[, -1], dqda_train$response), decreasing = T)[1:p]\n",
    "    dqda_train_t = data.frame(response = dqda_train$response, dqda_train[,temp_bw+1])\n",
    "    dqda_test_t= data.frame(response = dqda_test$response, dqda_test[,temp_bw+1])\n",
    "    \n",
    "    dqda_md = dlda(response~., data = dqda_train_t)\n",
    "    dqda_pred = predict(dqda_md, dqda_test_t[,-1])$class\n",
    "    dqda_error[i] = sum(dqda_pred != dqda_test_t$response)\n",
    "}\n",
    "c(Median = median(dqda_error), Upper_quartile = quantile(dqda_error, 0.75))"
   ]
  }
 ],
 "metadata": {
  "kernelspec": {
   "display_name": "R",
   "language": "R",
   "name": "ir"
  },
  "language_info": {
   "codemirror_mode": "r",
   "file_extension": ".r",
   "mimetype": "text/x-r-source",
   "name": "R",
   "pygments_lexer": "r",
   "version": "3.3.2"
  }
 },
 "nbformat": 4,
 "nbformat_minor": 0
}
