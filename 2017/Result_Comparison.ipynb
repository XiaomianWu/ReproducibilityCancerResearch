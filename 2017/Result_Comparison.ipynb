{
 "cells": [
  {
   "cell_type": "markdown",
   "metadata": {},
   "source": [
    "# Result Comparison\n",
    "\n",
    "You can find the title of corresponding paper in Dataset and classifier notebook."
   ]
  },
  {
   "cell_type": "markdown",
   "metadata": {},
   "source": [
    "- **Summary of All the Classifier**\n",
    "\n",
    "| Paper ID | Classifier |Paper Result |Reproduce result|\n",
    "|----------|------------|-------------|----------------|\n",
    "|1|Golub Classifier: informative genes + weighted vote|(50 genes) <br> Train: 36 correct ,2 uncertain <br> Test: 29 correct, 5 uncertain|Train: 37 correct ,1 uncertain <br> Test: 31 correct, 3 uncertain|\n",
    "|3|Nearest Neighbor <br> SVM(linear kernel, quadratic kernel) <br> Boosting (100, 1000, 10000 iteration)| Accuracy: $>= 90% $| Accuracy: $>= 90% $(See details in Paper3 notebook)|\n",
    "|4|# of correct classification is reported(too long to list here)|||\n",
    "|5|MVR(median vote relevance),NBGR(naive bayes global relevance), MAR(Golub paper relevance)+  SVM|# of correct classification is reported||\n",
    "|6|Dimension Reduction: PCA, PLS(Partial Least Square) <br> Classification: logistic and quadratic discrimination|Average accuracy rate reported|(50 same genes as in Golub Paper, however, re-randomization to the train and test samples introduced)||\n",
    "|7|SVM|multiple genes are selected, error rate/success rate, rejection rate/acceptance rate, externel margin, median margin reported||\n",
    "|9|Linear and quadratic discriminant analysis(4), Classification trees(4), Nearest neighbors|number of misclassified tumor samples quartile for each classifiers reported|40 genes used, test set sze 24||\n",
    "|10|single C4.5(decision tree), bagged(C4.5), AdaBoost C4.5|Accuracy, Precision(Positive Predictive Accuracy), Sensitivity, Specificity reported/plotted||\n",
    "|11|MAVE-LD, DLDA, DQDA, MAVE-NPLD|# of correct classification and error rate reported||\n",
    "|12|Disjoint PCA, SIMCA classification, classifier feedback feature selection|correct classify and misclassified reported||\n",
    "|13|Spectral biclustering methods| correctly partitions the patient, with only 1 ambiguous case||\n",
    "|14|LogitBoost, AdaBoost, Nearest Neighbor, Classification Tree| Error rate reported||\n",
    "|15|2 types of preprocessing+2 kernel function+ 2 tuning methods|Test errors reported(#)||\n",
    "|16|MAMA|# of misclassifications and prediction rate reported||\n",
    "|17|Feature selection: UR, REF <br> Classifier: Penalized Logistic Regression| Error rate reported, also estimation of the prob. dist.||\n",
    "|18|SVM, KNN, Naive Bayes, J4.8 DT|Classification accuracy plotted||\n",
    "|19|MC-SVM, Neural Network, KNN|Accuracy, relative classifier information reported||\n",
    "|20|Gene selection: BSS/WSS, Soft-thresholding, Rank-based <br> Classifier: FLDA, DLDA, DQDA, KNN, logistic, GPLS..etc.| Mean error rate reported||\n",
    "|21|TSP(Top scoring pairs), KNN, PAM, DT, NB, SVM|LOOCV accuracy, test accuracy reported||\n",
    "|22|SVM, KNN, DLDA, SC, NN, RF|Error rate||\n",
    "|23|SVM, NB|Accuracy plotted||\n",
    "|24|SVM, PCA+FDA, P-RR,P-PCR,P-ICR, PAM|Accuracy reported||\n",
    "|25|KNN, SVM|error rate reported||\n",
    "|26|penalized logistic regression|prediction error reported||\n",
    "|27|NB, FS+NB, FS+ICA+NB, FS+CCICA+NB|Boxplot of Accuracy rate reported||\n",
    "|28|HBE, BayesNet, LibSVM, SMO, Logistic, RBF network, IBk, J48, Random Forest|Accuracy rate reported||\n",
    "|29|Bayes Network|Classification rate reported||\n",
    "|30|Kmeans Clustering| Accuracy, Specificity, Sensitivity reported||"
   ]
  },
  {
   "cell_type": "code",
   "execution_count": null,
   "metadata": {
    "collapsed": true
   },
   "outputs": [],
   "source": []
  }
 ],
 "metadata": {
  "kernelspec": {
   "display_name": "R",
   "language": "R",
   "name": "ir"
  },
  "language_info": {
   "codemirror_mode": "r",
   "file_extension": ".r",
   "mimetype": "text/x-r-source",
   "name": "R",
   "pygments_lexer": "r",
   "version": "3.3.2"
  }
 },
 "nbformat": 4,
 "nbformat_minor": 0
}
