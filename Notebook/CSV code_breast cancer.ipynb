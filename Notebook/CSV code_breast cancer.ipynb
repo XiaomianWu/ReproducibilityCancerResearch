{
 "cells": [
  {
   "cell_type": "code",
   "execution_count": 7,
   "metadata": {
    "collapsed": true
   },
   "outputs": [],
   "source": [
    "setwd('/Users/tangzhaoying/Desktop/data/wk14/normalize')"
   ]
  },
  {
   "cell_type": "code",
   "execution_count": 8,
   "metadata": {
    "collapsed": false
   },
   "outputs": [],
   "source": [
    "load('g2603_select.rdata')"
   ]
  },
  {
   "cell_type": "code",
   "execution_count": 9,
   "metadata": {
    "collapsed": true
   },
   "outputs": [],
   "source": [
    "load('g11121_select.rdata')\n",
    "load('g2990_select.rdata')\n",
    "load('g5327_select.rdata')\n",
    "load('g7390_select.rdata')\n",
    "\n",
    "load('g2603.rdata')\n",
    "load('g11121.rdata')\n",
    "load('g2990.rdata')\n",
    "load('g5327.rdata')\n",
    "load('g7390.rdata')"
   ]
  },
  {
   "cell_type": "code",
   "execution_count": 10,
   "metadata": {
    "collapsed": true
   },
   "outputs": [],
   "source": [
    "X=data.matrix(g2603_select[,-1])\n",
    "Y=g2603_select$time\n",
    "\n",
    "lasso.mod<-glmnet(X,Y,alpha=1)\n",
    "cv.out<-cv.glmnet(X,Y,alpha=1)\n",
    "bestlam=cv.out$lambda.min"
   ]
  },
  {
   "cell_type": "code",
   "execution_count": 11,
   "metadata": {
    "collapsed": true
   },
   "outputs": [],
   "source": [
    "#Test on GSE2990\n",
    "g2990_test=g2990[,colnames(g2990)%in%colnames(g2603_select)]\n",
    "\n",
    "\n",
    "X2=data.matrix(g2990_test[,-1])\n",
    "\n",
    "pred_2990=predict(lasso.mod,s=bestlam,newx=X2)\n",
    "\n",
    "error_2990=mean((pred_2990-g2990_test$time)^2)"
   ]
  },
  {
   "cell_type": "code",
   "execution_count": 13,
   "metadata": {
    "collapsed": false
   },
   "outputs": [
    {
     "data": {
      "text/html": [
       "3683.25625858673"
      ],
      "text/latex": [
       "3683.25625858673"
      ],
      "text/markdown": [
       "3683.25625858673"
      ],
      "text/plain": [
       "[1] 3683.256"
      ]
     },
     "execution_count": 13,
     "metadata": {},
     "output_type": "execute_result"
    }
   ],
   "source": [
    "error_2990"
   ]
  },
  {
   "cell_type": "code",
   "execution_count": 12,
   "metadata": {
    "collapsed": true
   },
   "outputs": [],
   "source": [
    "#Test on GSE5327\n",
    "g5327_test=g5327[,colnames(g5327)%in%colnames(g2603_select)]\n",
    "\n",
    "X2=data.matrix(g5327_test[,-1])\n",
    "\n",
    "\n",
    "pred_5327=predict(lasso.mod,s=bestlam,newx=X2)\n",
    "error_5327=mean((pred_5327-g5327_test$time)^2)"
   ]
  },
  {
   "cell_type": "code",
   "execution_count": 14,
   "metadata": {
    "collapsed": true
   },
   "outputs": [],
   "source": [
    "#Test on GSE7390\n",
    "g7390_test=g7390[,colnames(g7390)%in%colnames(g2603_select)]\n",
    "\n",
    "X2=data.matrix(g7390_test[,-1])\n",
    "\n",
    "\n",
    "pred_7390=predict(lasso.mod,s=bestlam,newx=X2)\n",
    "error_7390=mean((pred_7390-g7390_select$time)^2)"
   ]
  },
  {
   "cell_type": "code",
   "execution_count": 15,
   "metadata": {
    "collapsed": true
   },
   "outputs": [],
   "source": [
    "#Test on GSE11121\n",
    "g11121_test=g11121[,colnames(g11121)%in%colnames(g2603_select)]\n",
    "\n",
    "X2=data.matrix(g11121_test[,-1])\n",
    "\n",
    "\n",
    "pred_11121=predict(lasso.mod,s=bestlam,newx=X2)\n",
    "error_11121=mean((pred_11121-g11121_select$time)^2)"
   ]
  },
  {
   "cell_type": "code",
   "execution_count": null,
   "metadata": {
    "collapsed": true
   },
   "outputs": [],
   "source": []
  }
 ],
 "metadata": {
  "kernelspec": {
   "display_name": "R",
   "language": "R",
   "name": "ir"
  },
  "language_info": {
   "codemirror_mode": "r",
   "file_extension": ".r",
   "mimetype": "text/x-r-source",
   "name": "R",
   "pygments_lexer": "r",
   "version": "3.2.2"
  }
 },
 "nbformat": 4,
 "nbformat_minor": 0
}
